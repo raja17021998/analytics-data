{
 "cells": [
  {
   "cell_type": "markdown",
   "metadata": {},
   "source": [
    "## Importing libraries\n",
    "- Numpy: This library is used for mathematical operations involving matrices\n",
    "- Matplotlib: This library is used for plotting graphs\n",
    "- Pandas: This library is used to load the dataset and perform dataset related operations"
   ]
  },
  {
   "cell_type": "code",
   "execution_count": 1,
   "metadata": {},
   "outputs": [],
   "source": [
    "import numpy as np\n",
    "import matplotlib.pyplot as plt\n",
    "import pandas as pd"
   ]
  },
  {
   "cell_type": "markdown",
   "metadata": {},
   "source": [
    "# Question :1 Detection of New Users per month\n"
   ]
  },
  {
   "cell_type": "markdown",
   "metadata": {},
   "source": [
    "### Step-1\n",
    "We load the dataset and sort it according to Date of Booking"
   ]
  },
  {
   "cell_type": "code",
   "execution_count": 2,
   "metadata": {},
   "outputs": [
    {
     "data": {
      "text/html": [
       "<div>\n",
       "<style scoped>\n",
       "    .dataframe tbody tr th:only-of-type {\n",
       "        vertical-align: middle;\n",
       "    }\n",
       "\n",
       "    .dataframe tbody tr th {\n",
       "        vertical-align: top;\n",
       "    }\n",
       "\n",
       "    .dataframe thead th {\n",
       "        text-align: right;\n",
       "    }\n",
       "</style>\n",
       "<table border=\"1\" class=\"dataframe\">\n",
       "  <thead>\n",
       "    <tr style=\"text-align: right;\">\n",
       "      <th></th>\n",
       "      <th>Transaction_ID</th>\n",
       "      <th>Profile ID</th>\n",
       "      <th>Date_of_Booking</th>\n",
       "      <th>Date_of_Service_Requested</th>\n",
       "      <th>Source</th>\n",
       "      <th>Slot of Booking (Hour of the Day)</th>\n",
       "    </tr>\n",
       "  </thead>\n",
       "  <tbody>\n",
       "    <tr>\n",
       "      <th>25310</th>\n",
       "      <td>SAGTE</td>\n",
       "      <td>13602</td>\n",
       "      <td>2017-12-01</td>\n",
       "      <td>2017-12-03</td>\n",
       "      <td>D</td>\n",
       "      <td>18</td>\n",
       "    </tr>\n",
       "    <tr>\n",
       "      <th>14754</th>\n",
       "      <td>SRHLB</td>\n",
       "      <td>7974</td>\n",
       "      <td>2017-12-01</td>\n",
       "      <td>2017-12-03</td>\n",
       "      <td>A</td>\n",
       "      <td>8</td>\n",
       "    </tr>\n",
       "    <tr>\n",
       "      <th>10039</th>\n",
       "      <td>RJHNB</td>\n",
       "      <td>5436</td>\n",
       "      <td>2017-12-01</td>\n",
       "      <td>2017-12-06</td>\n",
       "      <td>C</td>\n",
       "      <td>7</td>\n",
       "    </tr>\n",
       "    <tr>\n",
       "      <th>3398</th>\n",
       "      <td>VGEHF</td>\n",
       "      <td>1833</td>\n",
       "      <td>2017-12-01</td>\n",
       "      <td>2017-12-02</td>\n",
       "      <td>B</td>\n",
       "      <td>14</td>\n",
       "    </tr>\n",
       "    <tr>\n",
       "      <th>22773</th>\n",
       "      <td>CHFWJ</td>\n",
       "      <td>12184</td>\n",
       "      <td>2017-12-01</td>\n",
       "      <td>2017-12-03</td>\n",
       "      <td>C</td>\n",
       "      <td>13</td>\n",
       "    </tr>\n",
       "    <tr>\n",
       "      <th>27648</th>\n",
       "      <td>XEDVB</td>\n",
       "      <td>14921</td>\n",
       "      <td>2017-12-01</td>\n",
       "      <td>2017-12-01</td>\n",
       "      <td>D</td>\n",
       "      <td>14</td>\n",
       "    </tr>\n",
       "    <tr>\n",
       "      <th>21243</th>\n",
       "      <td>SIHXP</td>\n",
       "      <td>11372</td>\n",
       "      <td>2017-12-01</td>\n",
       "      <td>2017-12-02</td>\n",
       "      <td>D</td>\n",
       "      <td>8</td>\n",
       "    </tr>\n",
       "    <tr>\n",
       "      <th>27649</th>\n",
       "      <td>SPBJA</td>\n",
       "      <td>14921</td>\n",
       "      <td>2017-12-01</td>\n",
       "      <td>2017-12-02</td>\n",
       "      <td>C</td>\n",
       "      <td>15</td>\n",
       "    </tr>\n",
       "    <tr>\n",
       "      <th>2051</th>\n",
       "      <td>QYCYW</td>\n",
       "      <td>1102</td>\n",
       "      <td>2017-12-01</td>\n",
       "      <td>2017-12-03</td>\n",
       "      <td>D</td>\n",
       "      <td>13</td>\n",
       "    </tr>\n",
       "    <tr>\n",
       "      <th>16668</th>\n",
       "      <td>FGYTI</td>\n",
       "      <td>9000</td>\n",
       "      <td>2017-12-01</td>\n",
       "      <td>2017-12-01</td>\n",
       "      <td>C</td>\n",
       "      <td>14</td>\n",
       "    </tr>\n",
       "  </tbody>\n",
       "</table>\n",
       "</div>"
      ],
      "text/plain": [
       "      Transaction_ID  Profile ID Date_of_Booking Date_of_Service_Requested  \\\n",
       "25310          SAGTE       13602      2017-12-01                2017-12-03   \n",
       "14754          SRHLB        7974      2017-12-01                2017-12-03   \n",
       "10039          RJHNB        5436      2017-12-01                2017-12-06   \n",
       "3398           VGEHF        1833      2017-12-01                2017-12-02   \n",
       "22773          CHFWJ       12184      2017-12-01                2017-12-03   \n",
       "27648          XEDVB       14921      2017-12-01                2017-12-01   \n",
       "21243          SIHXP       11372      2017-12-01                2017-12-02   \n",
       "27649          SPBJA       14921      2017-12-01                2017-12-02   \n",
       "2051           QYCYW        1102      2017-12-01                2017-12-03   \n",
       "16668          FGYTI        9000      2017-12-01                2017-12-01   \n",
       "\n",
       "      Source  Slot of Booking (Hour of the Day)  \n",
       "25310      D                                 18  \n",
       "14754      A                                  8  \n",
       "10039      C                                  7  \n",
       "3398       B                                 14  \n",
       "22773      C                                 13  \n",
       "27648      D                                 14  \n",
       "21243      D                                  8  \n",
       "27649      C                                 15  \n",
       "2051       D                                 13  \n",
       "16668      C                                 14  "
      ]
     },
     "execution_count": 2,
     "metadata": {},
     "output_type": "execute_result"
    }
   ],
   "source": [
    "dataset = pd.read_csv('dataset.csv')\n",
    "dataset = dataset.sort_values('Date_of_Booking')\n",
    "dataset.head(n=10)"
   ]
  },
  {
   "cell_type": "markdown",
   "metadata": {},
   "source": [
    "### Step-2 \n",
    "We declare a set and a user dictionary. These serve the following purposes:\n",
    "- Set (existing_users): This set is maintained to store unique users in the given dataset\n",
    "- Dictionary (dict_user_count): This dictionary is used to maintain counts of users in a given month. It has:\n",
    "    - Key: Month\n",
    "    - value: New Users acquired every month"
   ]
  },
  {
   "cell_type": "code",
   "execution_count": 3,
   "metadata": {},
   "outputs": [],
   "source": [
    "existing_users = set()\n",
    "dict_user_count = {}"
   ]
  },
  {
   "cell_type": "code",
   "execution_count": 4,
   "metadata": {},
   "outputs": [
    {
     "name": "stdout",
     "output_type": "stream",
     "text": [
      "{1: 0, 2: 0, 3: 0, 4: 0, 5: 0, 6: 0, 7: 0, 8: 0, 9: 0, 10: 0, 11: 0, 12: 0}\n"
     ]
    }
   ],
   "source": [
    "for i in range(1,13,1):\n",
    "    dict_user_count[i] = 0\n",
    "print(dict_user_count)"
   ]
  },
  {
   "cell_type": "markdown",
   "metadata": {},
   "source": [
    "### Step-3\n",
    "If profile id doesn't exist in the set i.e. (New User !) , we append it to the set and increment the required month's value in the dictionary by one. This basically looks for those profile id's which are unique and not present in the required month, and updates it."
   ]
  },
  {
   "cell_type": "code",
   "execution_count": 5,
   "metadata": {},
   "outputs": [],
   "source": [
    "for index, row in dataset.iterrows():\n",
    "    if row['Profile ID'] not in existing_users:\n",
    "        existing_users.add( row['Profile ID'])\n",
    "        dict_user_count[int(row['Date_of_Booking'][5:7])] =  dict_user_count.get(int(row['Date_of_Booking'][5:7]))+1"
   ]
  },
  {
   "cell_type": "code",
   "execution_count": 6,
   "metadata": {},
   "outputs": [
    {
     "name": "stdout",
     "output_type": "stream",
     "text": [
      "Month: New Users:  {1: 1892, 2: 1549, 3: 1490, 4: 1346, 5: 1264, 6: 1273, 7: 1208, 8: 1120, 9: 1020, 10: 1110, 11: 1015, 12: 2424}\n"
     ]
    }
   ],
   "source": [
    "print(\"Month: New Users: \",dict_user_count)"
   ]
  },
  {
   "cell_type": "markdown",
   "metadata": {},
   "source": [
    "### Step-4 Plotting Graphs\n",
    "We plot months on the X-axis and corresponding new users on Y-axis"
   ]
  },
  {
   "cell_type": "code",
   "execution_count": 7,
   "metadata": {},
   "outputs": [
    {
     "name": "stdout",
     "output_type": "stream",
     "text": [
      "[1892, 1549, 1490, 1346, 1264, 1273, 1208, 1120, 1020, 1110, 1015, 2424]\n",
      "[1, 2, 3, 4, 5, 6, 7, 8, 9, 10, 11, 12]\n",
      "\n"
     ]
    }
   ],
   "source": [
    "y = []\n",
    "x = []\n",
    "for i in dict_user_count:\n",
    "    y.append(dict_user_count.get(i))\n",
    "print(y)\n",
    "for i in range(1,13,1):\n",
    "    x.append(i)\n",
    "print(x)\n",
    "print()"
   ]
  },
  {
   "cell_type": "code",
   "execution_count": 8,
   "metadata": {},
   "outputs": [
    {
     "name": "stdout",
     "output_type": "stream",
     "text": [
      " Months are abbreviated serialwise starting from January(1) till December(12)\n"
     ]
    }
   ],
   "source": [
    "print(\" Months are abbreviated serialwise starting from January(1) till December(12)\")"
   ]
  },
  {
   "cell_type": "code",
   "execution_count": 9,
   "metadata": {},
   "outputs": [
    {
     "name": "stdout",
     "output_type": "stream",
     "text": [
      "[1, 2, 3, 4, 5, 6, 7, 8, 9, 10, 11, 12]\n",
      "[1892, 1549, 1490, 1346, 1264, 1273, 1208, 1120, 1020, 1110, 1015, 2424]\n"
     ]
    },
    {
     "data": {
      "image/png": "[encoded data removed]",
      "text/plain": [
       "<Figure size 432x288 with 1 Axes>"
      ]
     },
     "metadata": {
      "needs_background": "light"
     },
     "output_type": "display_data"
    }
   ],
   "source": [
    "print (x)\n",
    "print (y)\n",
    "plt.bar(x, y)\n",
    "plt.plot(x,y,color='red')\n",
    "plt.xlabel('Months')\n",
    "plt.ylabel('Usage')\n",
    "plt.title('New User Detection')\n",
    "plt.show()"
   ]
  },
  {
   "cell_type": "markdown",
   "metadata": {},
   "source": [
    "### Some insights we can draw from the graph:\n",
    "- The number of new users generally keep decreasing as the year progresses\n",
    "- Highest number of new users were in December-2017 i.e. 1892\n",
    "- Lowest number of new users were in November-2018 i.e. 1015\n",
    "- There is a slight increase in number of users in the months of June and October"
   ]
  },
  {
   "cell_type": "markdown",
   "metadata": {},
   "source": [
    "# Question-2 Thirty day repeat rate of users in December-2017"
   ]
  },
  {
   "cell_type": "markdown",
   "metadata": {},
   "source": [
    "### Step-1 Importing Libraries\n",
    "Datetime library in python is used for dealing with dates "
   ]
  },
  {
   "cell_type": "code",
   "execution_count": 10,
   "metadata": {},
   "outputs": [],
   "source": [
    "import datetime \n"
   ]
  },
  {
   "cell_type": "markdown",
   "metadata": {},
   "source": [
    "### Step-2\n",
    "We declare a set. This serves the following purpose:\n",
    "\n",
    "Set (unique_users_dec): This set is maintained to store unique users of december in the given dataset"
   ]
  },
  {
   "cell_type": "code",
   "execution_count": 11,
   "metadata": {},
   "outputs": [],
   "source": [
    "unique_users_dec=set()"
   ]
  },
  {
   "cell_type": "markdown",
   "metadata": {},
   "source": [
    "Here we add unique users in december dictionary (unique_users_dict)"
   ]
  },
  {
   "cell_type": "code",
   "execution_count": 12,
   "metadata": {},
   "outputs": [],
   "source": [
    "for index,row in dataset.iterrows():\n",
    "    if row['Date_of_Booking'][5:7]=='12':\n",
    "        unique_users_dec.add(int(row['Profile ID']))"
   ]
  },
  {
   "cell_type": "markdown",
   "metadata": {},
   "source": [
    "### Step-3 \n",
    "Here we intialise our dictionary of profile ids with empty lists. Dictionary Parts are:\n",
    "- Keys: Unique users from the set unique_users_dec\n",
    "- Values: Lists of Date of Bookings of that Profile ID"
   ]
  },
  {
   "cell_type": "code",
   "execution_count": 13,
   "metadata": {},
   "outputs": [],
   "source": [
    "dict_id_dob={}\n",
    "for i in unique_users_dec:\n",
    "    dict_id_dob[i]= []"
   ]
  },
  {
   "cell_type": "markdown",
   "metadata": {},
   "source": [
    "### Step-4\n",
    "As soon as we find profile id from the set, we append the date of booking to the list of date of bookings kept at that key"
   ]
  },
  {
   "cell_type": "code",
   "execution_count": 14,
   "metadata": {},
   "outputs": [],
   "source": [
    "for index, row in dataset.iterrows():\n",
    "    if row['Profile ID'] in unique_users_dec:\n",
    "        dict_id_dob[row['Profile ID']].append(row['Date_of_Booking'])"
   ]
  },
  {
   "cell_type": "markdown",
   "metadata": {},
   "source": [
    "### Step-5\n",
    "As soon as we have the list of date of bookings, we take all those dates from the list, which have length greater than unity, since length lesser than unity, would imply one boooking in the entire year, so there is no chance of a 30 day repeat! Then we take difference between first two dates and check for greater or lesser than 30, and accordingly update the count variable. And finally the percentage is evaluated."
   ]
  },
  {
   "cell_type": "code",
   "execution_count": 15,
   "metadata": {},
   "outputs": [],
   "source": [
    "count=0.0\n",
    "for x,y in dict_id_dob.items():\n",
    "    if(len(y)>1):\n",
    "        diff=datetime.datetime.strptime(y[1], '%Y-%m-%d').date()- datetime.datetime.strptime(y[0], '%Y-%m-%d').date()\n",
    "        if(diff.days<=30):\n",
    "            count=count+1"
   ]
  },
  {
   "cell_type": "code",
   "execution_count": 16,
   "metadata": {},
   "outputs": [],
   "source": [
    "percentage= (count*100)/len(unique_users_dec)"
   ]
  },
  {
   "cell_type": "code",
   "execution_count": 17,
   "metadata": {},
   "outputs": [
    {
     "name": "stdout",
     "output_type": "stream",
     "text": [
      "Percentage of users having a 30 day repeat in December is:  16.831683168316832 %\n"
     ]
    }
   ],
   "source": [
    "print(\"Percentage of users having a 30 day repeat in December is: \", percentage, \"%\")"
   ]
  },
  {
   "cell_type": "markdown",
   "metadata": {},
   "source": [
    "#### Here we come to see that, the percentage of users having a 30 day repeat in December is 16.83% ~ 17.00%"
   ]
  },
  {
   "cell_type": "markdown",
   "metadata": {},
   "source": [
    "# Question-3 Nintey day repeat rate of users in January, February, March-2018\n",
    "\n",
    "This question has a similar approach to Question-2"
   ]
  },
  {
   "cell_type": "markdown",
   "metadata": {},
   "source": [
    "### Step-2\n",
    "We declare a set. This serves the following purpose:\n",
    "\n",
    "- Set (unique_users_jan): This set is maintained to store unique users of January in the given dataset\n",
    "- Set (unique_users_feb): This set is maintained to store unique users of February in the given dataset\n",
    "- Set (unique_users_mar): This set is maintained to store unique users of March in the given dataset\n"
   ]
  },
  {
   "cell_type": "code",
   "execution_count": 18,
   "metadata": {},
   "outputs": [],
   "source": [
    "unique_users_jan=set()\n",
    "unique_users_feb=set()\n",
    "unique_users_mar=set()"
   ]
  },
  {
   "cell_type": "markdown",
   "metadata": {},
   "source": [
    "Here we add unique users in \n",
    "- january dictionary (unique_users_jan)\n",
    "- february dictionary (unique_users_feb)\n",
    "- march dictionary (unique_users_mar)"
   ]
  },
  {
   "cell_type": "code",
   "execution_count": 19,
   "metadata": {},
   "outputs": [],
   "source": [
    "for index,row in dataset.iterrows():\n",
    "    if row['Date_of_Booking'][5:7]=='01':\n",
    "        unique_users_jan.add(int(row['Profile ID']))\n",
    "    elif row['Date_of_Booking'][5:7]=='02':\n",
    "        unique_users_feb.add(int(row['Profile ID']))\n",
    "    elif row['Date_of_Booking'][5:7]=='03':\n",
    "        unique_users_mar.add(int(row['Profile ID']))"
   ]
  },
  {
   "cell_type": "markdown",
   "metadata": {},
   "source": [
    "### Step-3 \n",
    "Here we intialise our dictionaries of profile ids with empty lists. Dictionary Parts are:\n",
    "- Keys: Unique users from the set: \n",
    "    - unique_users_jan\n",
    "    - unique_users_feb\n",
    "    - unique_users_mar\n",
    "- Values: Lists of Date of Bookings of that Profile ID"
   ]
  },
  {
   "cell_type": "code",
   "execution_count": 20,
   "metadata": {},
   "outputs": [],
   "source": [
    "dict_id_dob_jan={}\n",
    "dict_id_dob_feb={}\n",
    "dict_id_dob_mar={}"
   ]
  },
  {
   "cell_type": "code",
   "execution_count": 21,
   "metadata": {},
   "outputs": [],
   "source": [
    "for i in unique_users_jan:\n",
    "    dict_id_dob_jan[i]= []"
   ]
  },
  {
   "cell_type": "code",
   "execution_count": 22,
   "metadata": {},
   "outputs": [],
   "source": [
    "for i in unique_users_feb:\n",
    "    dict_id_dob_feb[i]= []"
   ]
  },
  {
   "cell_type": "code",
   "execution_count": 23,
   "metadata": {},
   "outputs": [],
   "source": [
    "for i in unique_users_mar:\n",
    "    dict_id_dob_mar[i]= []"
   ]
  },
  {
   "cell_type": "markdown",
   "metadata": {},
   "source": [
    "### Step-4\n",
    "As soon as we find profile id from the set, we append the date of booking to the list of date of bookings kept at that key of the required month"
   ]
  },
  {
   "cell_type": "code",
   "execution_count": 24,
   "metadata": {},
   "outputs": [],
   "source": [
    "for index, row in dataset.iterrows():\n",
    "    if row['Profile ID'] in unique_users_jan:\n",
    "        dict_id_dob_jan[row['Profile ID']].append(row['Date_of_Booking'])\n",
    "    elif row['Profile ID'] in unique_users_feb:\n",
    "        dict_id_dob_feb[row['Profile ID']].append(row['Date_of_Booking'])\n",
    "    elif row['Profile ID'] in unique_users_mar:\n",
    "        dict_id_dob_mar[row['Profile ID']].append(row['Date_of_Booking'])"
   ]
  },
  {
   "cell_type": "markdown",
   "metadata": {},
   "source": [
    "### Step-5\n",
    "As soon as we have the list of date of bookings, we take all those dates from the list, which have length greater than unity, since length lesser than unity, would imply one boooking in the entire year, so there is no chance of a 30 day repeat! Then we take difference between first two dates and check for greater or lesser than 30, and accordingly update the count variable. And finally the percentage is evaluated."
   ]
  },
  {
   "cell_type": "code",
   "execution_count": 25,
   "metadata": {},
   "outputs": [],
   "source": [
    "count_jan=0.0\n",
    "count_feb=0.0\n",
    "count_mar=0.0"
   ]
  },
  {
   "cell_type": "markdown",
   "metadata": {},
   "source": [
    "#### January Calculation:"
   ]
  },
  {
   "cell_type": "code",
   "execution_count": 26,
   "metadata": {},
   "outputs": [],
   "source": [
    "for x,y in dict_id_dob_jan.items():\n",
    "    if(len(y)>1):\n",
    "        diff=datetime.datetime.strptime(y[1], '%Y-%m-%d').date()- datetime.datetime.strptime(y[0], '%Y-%m-%d').date()\n",
    "        if(diff.days<=90):\n",
    "            count_jan=count_jan+1\n"
   ]
  },
  {
   "cell_type": "code",
   "execution_count": 27,
   "metadata": {},
   "outputs": [],
   "source": [
    "percentage_jan=(count_jan*100)/len(unique_users_jan)"
   ]
  },
  {
   "cell_type": "code",
   "execution_count": 28,
   "metadata": {},
   "outputs": [
    {
     "name": "stdout",
     "output_type": "stream",
     "text": [
      "Percentage of users having a 90 day repeat rate in January is:  38.20998278829604 %\n"
     ]
    }
   ],
   "source": [
    "print(\"Percentage of users having a 90 day repeat rate in January is: \", percentage_jan, \"%\")"
   ]
  },
  {
   "cell_type": "markdown",
   "metadata": {},
   "source": [
    "#### February Calculation:"
   ]
  },
  {
   "cell_type": "code",
   "execution_count": 29,
   "metadata": {},
   "outputs": [],
   "source": [
    "for x,y in dict_id_dob_feb.items():\n",
    "    if(len(y)>1):\n",
    "        diff=datetime.datetime.strptime(y[1], '%Y-%m-%d').date()- datetime.datetime.strptime(y[0], '%Y-%m-%d').date()\n",
    "        if(diff.days<=90):\n",
    "            count_feb=count_feb+1"
   ]
  },
  {
   "cell_type": "code",
   "execution_count": 30,
   "metadata": {},
   "outputs": [],
   "source": [
    "percentage_feb=(count_feb*100)/len(unique_users_jan)"
   ]
  },
  {
   "cell_type": "code",
   "execution_count": 31,
   "metadata": {},
   "outputs": [
    {
     "name": "stdout",
     "output_type": "stream",
     "text": [
      "Percentage of users having a 90 day repeat rate in February is:  21.428571428571427 %\n"
     ]
    }
   ],
   "source": [
    "print(\"Percentage of users having a 90 day repeat rate in February is: \", percentage_feb, \"%\")"
   ]
  },
  {
   "cell_type": "markdown",
   "metadata": {},
   "source": [
    "#### March Calculation:"
   ]
  },
  {
   "cell_type": "code",
   "execution_count": 32,
   "metadata": {},
   "outputs": [],
   "source": [
    "for x,y in dict_id_dob_mar.items():\n",
    "    if(len(y)>1):\n",
    "        diff=datetime.datetime.strptime(y[1], '%Y-%m-%d').date()- datetime.datetime.strptime(y[0], '%Y-%m-%d').date()\n",
    "        if(diff.days<=90):\n",
    "            count_mar=count_mar+1"
   ]
  },
  {
   "cell_type": "code",
   "execution_count": 33,
   "metadata": {},
   "outputs": [],
   "source": [
    "percentage_mar=(count_mar*100)/len(unique_users_mar)"
   ]
  },
  {
   "cell_type": "code",
   "execution_count": 34,
   "metadata": {},
   "outputs": [
    {
     "name": "stdout",
     "output_type": "stream",
     "text": [
      "Percentage of users having a 90 day repeat rate in March is:  15.969750889679716 %\n"
     ]
    }
   ],
   "source": [
    "print(\"Percentage of users having a 90 day repeat rate in March is: \", percentage_mar, \"%\")"
   ]
  },
  {
   "cell_type": "markdown",
   "metadata": {},
   "source": [
    "#### Hence the 90 day repeat rate of January, February and March are 38.20%, 21.42% and 15.96% ~ 38%, 21% and 16% respectively"
   ]
  },
  {
   "cell_type": "markdown",
   "metadata": {},
   "source": [
    "# Question- 4 & 5 Prediction of Nintey Day Repeat in November using Logistic Regression and plotting frequency of users according to their 90 day repeat"
   ]
  },
  {
   "cell_type": "markdown",
   "metadata": {},
   "source": [
    "### Step-1 Importing the libraries\n",
    "We import the sklearn library which is a standard library in python, and it contains a lot of classes and methods which assist in machine learning activities and tasks. Here we use two classes from sklearn library:\n",
    "- train_test_split: This class is used to split the dataset into train and test sets, in which our model is trained on training set, and tested on test set.\n",
    "- LogisticRegression: It is class which provides us with the functionalities to apply logistic regression on our dataset. Logistic Regression is a classification algorithm, that classfies according to the given set of features into a probability range between [0,1]. Depending upon our confidence range value, generally it is 0.5, we can say that particular class belongs to a particular class i.e. above or below of our confidence value. "
   ]
  },
  {
   "cell_type": "code",
   "execution_count": 35,
   "metadata": {},
   "outputs": [],
   "source": [
    "from sklearn.model_selection import train_test_split\n",
    "from sklearn.linear_model import LogisticRegression"
   ]
  },
  {
   "cell_type": "markdown",
   "metadata": {},
   "source": [
    "### Step-2\n",
    "We create a unique users set, containing unique users across the entire dataset"
   ]
  },
  {
   "cell_type": "code",
   "execution_count": 36,
   "metadata": {},
   "outputs": [],
   "source": [
    "# Unique Users Set\n",
    "unique_users= set()"
   ]
  },
  {
   "cell_type": "code",
   "execution_count": 37,
   "metadata": {},
   "outputs": [],
   "source": [
    "# Filling this set\n",
    "for index, row in dataset.iterrows():\n",
    "    unique_users.add(row['Profile ID'])"
   ]
  },
  {
   "cell_type": "markdown",
   "metadata": {},
   "source": [
    "### Step-3 \n",
    "We create a dictionary of unique users which has unique_users and their list of bookings. It includes:\n",
    "- Keys: All the unique Profile IDS across the dataset\n",
    "- Values: List of all the date of bookings, of that Profile ID"
   ]
  },
  {
   "cell_type": "code",
   "execution_count": 38,
   "metadata": {},
   "outputs": [],
   "source": [
    "# Dictionary of unique users and their date of bookings\n",
    "dict_id_dob= {}"
   ]
  },
  {
   "cell_type": "code",
   "execution_count": 39,
   "metadata": {},
   "outputs": [],
   "source": [
    "# Preparation of Profile IDS and list of bookings list\n",
    "for i in unique_users:\n",
    "    dict_id_dob[i]= []"
   ]
  },
  {
   "cell_type": "markdown",
   "metadata": {},
   "source": [
    "Now we append all the date of bookings to the date of booking list in the dictionary across each Profile ID"
   ]
  },
  {
   "cell_type": "code",
   "execution_count": 40,
   "metadata": {},
   "outputs": [],
   "source": [
    "# Adding date of bookings to the dictionary with Profile IDs from the given set\n",
    "for index, row in dataset.iterrows():\n",
    "    if row['Profile ID'] in unique_users:\n",
    "        dict_id_dob[row['Profile ID']].append(row['Date_of_Booking'])"
   ]
  },
  {
   "cell_type": "markdown",
   "metadata": {},
   "source": [
    "### Step-4 \n",
    "Now we create two dictionaries:\n",
    "- dict_freq_ids: This dictionary is used for creating a map between Profile IDS and their frequency.\n",
    "- dict_freq_count: This dictionary is used for creating a map between number of times 90 day repeat occurs and its corresponding number "
   ]
  },
  {
   "cell_type": "code",
   "execution_count": 41,
   "metadata": {},
   "outputs": [],
   "source": [
    "# Dictionaries of frequency of profile IDS and their count\n",
    "dict_freq_ids={}\n",
    "dict_freq_count={}"
   ]
  },
  {
   "cell_type": "code",
   "execution_count": 42,
   "metadata": {},
   "outputs": [],
   "source": [
    "# Filling the dictionay-1\n",
    "for i in range(60):\n",
    "    dict_freq_count[i]=0\n",
    "    \n"
   ]
  },
  {
   "cell_type": "code",
   "execution_count": 43,
   "metadata": {},
   "outputs": [],
   "source": [
    "# Filling the dictionary-2\n",
    "for i in range(100):\n",
    "    dict_freq_ids[i]= set()"
   ]
  },
  {
   "cell_type": "markdown",
   "metadata": {},
   "source": [
    "#### This is a simple function to calculate the difference in days between two days "
   ]
  },
  {
   "cell_type": "code",
   "execution_count": 44,
   "metadata": {},
   "outputs": [],
   "source": [
    "# Day Difference\n",
    "def calculate_day_diff(d1, d2):\n",
    "    diff=datetime.datetime.strptime(d1, '%Y-%m-%d').date()- datetime.datetime.strptime(d2, '%Y-%m-%d').date()\n",
    "    return diff.days"
   ]
  },
  {
   "cell_type": "markdown",
   "metadata": {},
   "source": [
    "#### This Y is a numpy list which has labels 0/1 corresponding to each Profile ID who has ever or never done a 90 Day Repeat\n",
    "- 0: If the user has never done a 90 day repeat \n",
    "- 1: If the user has ever done a 90 day repeat "
   ]
  },
  {
   "cell_type": "code",
   "execution_count": 45,
   "metadata": {},
   "outputs": [],
   "source": [
    "# This Y will go for train_test_split\n",
    "Y= np.zeros((len(unique_users),))"
   ]
  },
  {
   "cell_type": "markdown",
   "metadata": {},
   "source": [
    "### Step-5\n",
    "Now all the dictionaries and numpy lists are filled"
   ]
  },
  {
   "cell_type": "code",
   "execution_count": 46,
   "metadata": {},
   "outputs": [],
   "source": [
    "# Preparing the dictionaries\n",
    "for p_id in dict_id_dob:\n",
    "    \n",
    "    if len(dict_id_dob[p_id])>1:\n",
    "        count=0\n",
    "        label=0\n",
    "        for i in range(len(dict_id_dob[p_id])-1):\n",
    "            if calculate_day_diff(dict_id_dob[p_id][i+1], dict_id_dob[p_id][i])<=90:\n",
    "                label=1\n",
    "                count= count+1\n",
    "                \n",
    "        Y[p_id]= label\n",
    "        dict_freq_ids[count].add(p_id)\n",
    "        dict_freq_count[count]= len(dict_freq_ids[count])"
   ]
  },
  {
   "cell_type": "code",
   "execution_count": 47,
   "metadata": {},
   "outputs": [
    {
     "name": "stdout",
     "output_type": "stream",
     "text": [
      "{0: 1423, 1: 1569, 2: 558, 3: 305, 4: 181, 5: 142, 6: 104, 7: 62, 8: 53, 9: 44, 10: 42, 11: 43, 12: 24, 13: 20, 14: 15, 15: 19, 16: 7, 17: 10, 18: 5, 19: 10, 20: 7, 21: 4, 22: 3, 23: 7, 24: 4, 25: 7, 26: 3, 27: 3, 28: 4, 29: 1, 30: 0, 31: 2, 32: 1, 33: 1, 34: 0, 35: 1, 36: 0, 37: 0, 38: 1, 39: 0, 40: 1, 41: 0, 42: 0, 43: 0, 44: 0, 45: 2, 46: 0, 47: 0, 48: 1, 49: 0, 50: 0, 51: 1, 52: 0, 53: 0, 54: 0, 55: 1, 56: 0, 57: 0, 58: 0, 59: 0}\n"
     ]
    }
   ],
   "source": [
    "print((dict_freq_count))"
   ]
  },
  {
   "cell_type": "code",
   "execution_count": 48,
   "metadata": {
    "scrolled": true
   },
   "outputs": [
    {
     "name": "stdout",
     "output_type": "stream",
     "text": [
      "{0: {1, 3, 16393, 8202, 8208, 18, 8216, 16413, 32, 33, 34, 16420, 38, 39, 8232, 50, 58, 16447, 64, 8258, 16453, 72, 76, 16460, 16462, 16464, 8275, 16468, 16470, 87, 8279, 90, 16479, 8290, 100, 16486, 8295, 8296, 8297, 8309, 8312, 16506, 8318, 8319, 135, 16522, 140, 145, 16535, 8347, 8351, 163, 16553, 16556, 173, 8367, 8369, 179, 8378, 8379, 16575, 194, 8391, 206, 8399, 210, 218, 8414, 223, 16610, 16611, 16621, 242, 256, 8448, 8454, 265, 266, 267, 16651, 16663, 283, 8480, 290, 16674, 16676, 295, 16683, 309, 16707, 8521, 8524, 344, 8554, 8569, 397, 404, 8597, 412, 419, 422, 430, 442, 462, 8659, 8667, 8671, 481, 489, 8684, 8686, 506, 8706, 539, 556, 557, 563, 576, 580, 8779, 588, 592, 595, 8796, 606, 609, 611, 616, 628, 629, 8828, 8830, 639, 8839, 8845, 8852, 666, 8861, 687, 8880, 691, 8890, 8899, 713, 715, 719, 727, 8924, 8928, 737, 8931, 756, 781, 786, 8985, 799, 8993, 815, 825, 9024, 838, 840, 9035, 853, 859, 9056, 9059, 9061, 9063, 873, 888, 890, 899, 9091, 9092, 9099, 908, 9117, 9126, 9130, 953, 9149, 9150, 9159, 969, 974, 9180, 9181, 1002, 1010, 9205, 1015, 1016, 9209, 9213, 1026, 9218, 9219, 1030, 9222, 9240, 1051, 1054, 9251, 1063, 1065, 1069, 1075, 1079, 9274, 1093, 1095, 9295, 9301, 1111, 1112, 9306, 9310, 1134, 9331, 1140, 1142, 1144, 1146, 9340, 9361, 9362, 9364, 1186, 9379, 1191, 1206, 1211, 1225, 9418, 9426, 9439, 1254, 1259, 9458, 1282, 9474, 1286, 1289, 9486, 1297, 9490, 9492, 9500, 9502, 1314, 1320, 9515, 9531, 9534, 1350, 9555, 1369, 1379, 1380, 9573, 1392, 1397, 9591, 1402, 9595, 1407, 9610, 1419, 1422, 9618, 1430, 1434, 1436, 1451, 9643, 1453, 1472, 1474, 9671, 9676, 1503, 9698, 9725, 1538, 9746, 9747, 9748, 1568, 9766, 1581, 9773, 1584, 1585, 9787, 9796, 9800, 9802, 1613, 1623, 9816, 1626, 9818, 1642, 1644, 9836, 1650, 1653, 9847, 9857, 9868, 9885, 1697, 9926, 1740, 9935, 9941, 9944, 1753, 1759, 9953, 9958, 1776, 1782, 9975, 1791, 9984, 1800, 1802, 9998, 10000, 10002, 1812, 10005, 1818, 10010, 1821, 10027, 1842, 10037, 1856, 10053, 10070, 10071, 1881, 1883, 1890, 10085, 10091, 10092, 1906, 1915, 1919, 1921, 10117, 10118, 10119, 10124, 10131, 10133, 10148, 1961, 1981, 2007, 2022, 2034, 2042, 10241, 10245, 10249, 10251, 2065, 10266, 2087, 10286, 2097, 10299, 10301, 2116, 2118, 2119, 2121, 10313, 10315, 2126, 10320, 2132, 2137, 10329, 10342, 10358, 10362, 10370, 2181, 10390, 2201, 2208, 10406, 10413, 2223, 2242, 10435, 2250, 2252, 10445, 2256, 10467, 10471, 2282, 2286, 2295, 2301, 2309, 10507, 2320, 10512, 2322, 2338, 10534, 10535, 10542, 10545, 10548, 10553, 2362, 2365, 2372, 10569, 10571, 2381, 10576, 2386, 10579, 10580, 2395, 10587, 10595, 2409, 2410, 10601, 10624, 2433, 2439, 2452, 10650, 2467, 2479, 10674, 10676, 10679, 2500, 10700, 2522, 10715, 2525, 10718, 2531, 10726, 2535, 10729, 2538, 10742, 10750, 10756, 10760, 2574, 10769, 10781, 2601, 10794, 2603, 2614, 2619, 2620, 2624, 10821, 2633, 10832, 10835, 2647, 10846, 10858, 10864, 2679, 10872, 2684, 10881, 2694, 2703, 10907, 2724, 10918, 10919, 10921, 2738, 10936, 10937, 2752, 10947, 10955, 10956, 2768, 10960, 10961, 10964, 2775, 2776, 10971, 10977, 10980, 11007, 2817, 2819, 11017, 11018, 2827, 11036, 11037, 11040, 11042, 2851, 2854, 11049, 11050, 2871, 11078, 11081, 2890, 2893, 2894, 11093, 11098, 2923, 2930, 11122, 11123, 2943, 11137, 2947, 11142, 2953, 11159, 2976, 2977, 2990, 11200, 3011, 11204, 3029, 11225, 11230, 3039, 11235, 11237, 11239, 3048, 3051, 11243, 3053, 11261, 11262, 11265, 3078, 11273, 3083, 3086, 11281, 11285, 11287, 3097, 11305, 3118, 11310, 11311, 3125, 3126, 3128, 11321, 3131, 3146, 3151, 3152, 3157, 11351, 3160, 3162, 11359, 11364, 3178, 3179, 11372, 3189, 11389, 11395, 3208, 11400, 11401, 3215, 3243, 11439, 3249, 3252, 11447, 3256, 11469, 3279, 11475, 11481, 11485, 3299, 11494, 3311, 3324, 11521, 3333, 3338, 11532, 11538, 11539, 3355, 3359, 11568, 11573, 11576, 11593, 11595, 11607, 11610, 3423, 3428, 11620, 3431, 11623, 3435, 11631, 3441, 11646, 3462, 3467, 11661, 3476, 11671, 11673, 11676, 11689, 3499, 3504, 3508, 11704, 11715, 3530, 3533, 11731, 3540, 11735, 11738, 11740, 3564, 11763, 3578, 3579, 11780, 11785, 11787, 11817, 11819, 3631, 11824, 3652, 11848, 11851, 3666, 11864, 11865, 11869, 11875, 3684, 3699, 11892, 11895, 3707, 3709, 3721, 11917, 3747, 3762, 11958, 3770, 3774, 3809, 12001, 3816, 12008, 3824, 12019, 3851, 12044, 12054, 3865, 12062, 3874, 3875, 3896, 12113, 3931, 12134, 12141, 12153, 12167, 3984, 12183, 3996, 12188, 12189, 4005, 12198, 12204, 12207, 12215, 12221, 4030, 12223, 4042, 12235, 12240, 4050, 4053, 12258, 12260, 4075, 12268, 12275, 12308, 4118, 4129, 12322, 4138, 12352, 12353, 4163, 4169, 4172, 4180, 12378, 12380, 4198, 12395, 12397, 12403, 12411, 12420, 4248, 4249, 12442, 4258, 4270, 12477, 12482, 12484, 4296, 4297, 4310, 12504, 4313, 4314, 12508, 12509, 4329, 12522, 4337, 12529, 4341, 12542, 4351, 12550, 4364, 12562, 4379, 12572, 4397, 12616, 4432, 12631, 4445, 4450, 4452, 12652, 4465, 4467, 12660, 12661, 4475, 12669, 12671, 4480, 12677, 12681, 4520, 4528, 12728, 12744, 4566, 4568, 4573, 4574, 12767, 4584, 12777, 12781, 4592, 4597, 12796, 4610, 4619, 12811, 12821, 12823, 12832, 12835, 4644, 12839, 12848, 4657, 12861, 12863, 4677, 4681, 12879, 12881, 4704, 12900, 4715, 4716, 12929, 4745, 12943, 4769, 12964, 4779, 12983, 4792, 4797, 4800, 12993, 13001, 13007, 4820, 4831, 13027, 4836, 13035, 13042, 4857, 4861, 4867, 13072, 4882, 13077, 4889, 13084, 4896, 4902, 13101, 13106, 13117, 4931, 13125, 4948, 4952, 13148, 13159, 4970, 4972, 13177, 4986, 13185, 4999, 13195, 13197, 5010, 5018, 5025, 13223, 5033, 13230, 5043, 13242, 5053, 13248, 13251, 13265, 13279, 5088, 5090, 13292, 13298, 5119, 13317, 5135, 13334, 13339, 13340, 5165, 13358, 5174, 5180, 5182, 13381, 13390, 13395, 13399, 13412, 13416, 5227, 13424, 13428, 13430, 5242, 13438, 5259, 13461, 5284, 13479, 5289, 13489, 5302, 5303, 13496, 5310, 5314, 13509, 5328, 5337, 13543, 5356, 5359, 13552, 13559, 13560, 13567, 5376, 5382, 5384, 13576, 13586, 5406, 13603, 5412, 5422, 5427, 13619, 13620, 13632, 5451, 13644, 13647, 13654, 5465, 13659, 5480, 13696, 13703, 13708, 13713, 13718, 13719, 5533, 13739, 5554, 13746, 5570, 5572, 13768, 5578, 13774, 13796, 5610, 13806, 5615, 13813, 13816, 5625, 13817, 5628, 5639, 13835, 5656, 13848, 13855, 13858, 5667, 13863, 5684, 13886, 5699, 5709, 5714, 5718, 13917, 5734, 5736, 13933, 13947, 5765, 5766, 13963, 5775, 13974, 13982, 5793, 13989, 13991, 5801, 13997, 13998, 5834, 5836, 5840, 14034, 5844, 5861, 14066, 5877, 5883, 14098, 5907, 14101, 14106, 5918, 5921, 5935, 5937, 14145, 14155, 5973, 14165, 14166, 14180, 14187, 14193, 6005, 14200, 6015, 14217, 6027, 6029, 14227, 14229, 6039, 6048, 6067, 6068, 6078, 14279, 6099, 14291, 6115, 14307, 14309, 6121, 14313, 6143, 6145, 6146, 6151, 6156, 6175, 14368, 14371, 14372, 14377, 14383, 14392, 14395, 6205, 14398, 14399, 14404, 14405, 14420, 14438, 6248, 6251, 6252, 6255, 14458, 14461, 6270, 14465, 14477, 6289, 14487, 6298, 14500, 14501, 6314, 14513, 6340, 6348, 14557, 6368, 14562, 14575, 6394, 14599, 6414, 6415, 6444, 6454, 14650, 14660, 14663, 14666, 14671, 6485, 14682, 6493, 6511, 6518, 6520, 6521, 14723, 6548, 14750, 14775, 14782, 6592, 14788, 14791, 6610, 14808, 14821, 6636, 6639, 14832, 14834, 6648, 6681, 14879, 6688, 14881, 6694, 6705, 14898, 14902, 6711, 6715, 14917, 6730, 14931, 6747, 6750, 14953, 6763, 14962, 6775, 14967, 14972, 14974, 6798, 6809, 15004, 6821, 6822, 6828, 15022, 6835, 15045, 15048, 15052, 6866, 15067, 6878, 15076, 6887, 6888, 15079, 15090, 6905, 15098, 6917, 15110, 6920, 6924, 6925, 6932, 15136, 15143, 6952, 6956, 15169, 6986, 6988, 15183, 6999, 7005, 7009, 7010, 7013, 7021, 15219, 15223, 15230, 7045, 7060, 7062, 7063, 15255, 15267, 15268, 7087, 15280, 7092, 7102, 15304, 7114, 15322, 7133, 15330, 7150, 7151, 15347, 15353, 15364, 7173, 7179, 15377, 15378, 7190, 7193, 15385, 7195, 15386, 7202, 15395, 15402, 7213, 7217, 7218, 15418, 15420, 7230, 7231, 15433, 15438, 15439, 7248, 7249, 7255, 15454, 7263, 15460, 7269, 7270, 7276, 7280, 15474, 7284, 7290, 7294, 7298, 7304, 15500, 7309, 15504, 7321, 15540, 7355, 7357, 15552, 7362, 15561, 7375, 15587, 7400, 7409, 7411, 15607, 15610, 7419, 7424, 7431, 15624, 7433, 15628, 7439, 15639, 15642, 7453, 15647, 15649, 7463, 7480, 15673, 7482, 7503, 7504, 15700, 15701, 15720, 7529, 15726, 7538, 7539, 15740, 7555, 7557, 15758, 15764, 15766, 7576, 7583, 7584, 7588, 15786, 15793, 7603, 15804, 15808, 7621, 15814, 7627, 7643, 7644, 7646, 7647, 15856, 15863, 15868, 7683, 7692, 7696, 7697, 7698, 7701, 15893, 7720, 7722, 15917, 7730, 7749, 15949, 7762, 15959, 15968, 7780, 15972, 15977, 7797, 7811, 7827, 7836, 7848, 16048, 7866, 7868, 16061, 16065, 16068, 7878, 7880, 16083, 7893, 7908, 7911, 16105, 16107, 16108, 16115, 7930, 16123, 16131, 7945, 16137, 16138, 16148, 7974, 16171, 16177, 16186, 7995, 8001, 16194, 8014, 8016, 16215, 16216, 16223, 8039, 8042, 16237, 8048, 8051, 16243, 8056, 16249, 16255, 8066, 16274, 8084, 8085, 16287, 8111, 16304, 16305, 8114, 16306, 8118, 16312, 16316, 16328, 8137, 16329, 16335, 8144, 16341, 8151, 16346, 16356, 16364, 16365, 8175, 8185}, 1: {16385, 8195, 8, 16395, 8207, 16399, 16400, 16403, 16404, 22, 16408, 8226, 36, 8228, 16422, 16425, 43, 48, 8243, 8244, 8247, 66, 8263, 8268, 8282, 8285, 95, 16481, 98, 16484, 16491, 16492, 16495, 114, 16501, 123, 124, 16513, 132, 8324, 16516, 16527, 144, 149, 16537, 157, 8350, 159, 160, 168, 16560, 178, 16563, 8376, 8382, 193, 8386, 197, 8390, 199, 16581, 16586, 204, 8397, 214, 16599, 216, 16603, 16605, 16606, 16607, 8419, 228, 16612, 8422, 16616, 16618, 8432, 16635, 8445, 259, 8452, 261, 16648, 8465, 8466, 279, 8473, 16666, 289, 16673, 8485, 16679, 8489, 8494, 307, 16692, 8501, 311, 16696, 16702, 321, 8513, 325, 8520, 336, 8528, 339, 8531, 347, 348, 356, 364, 376, 8572, 395, 8602, 8603, 8613, 450, 8645, 8654, 8668, 8682, 8690, 8691, 501, 8693, 512, 513, 8711, 525, 8730, 8734, 8736, 549, 8749, 561, 8755, 8757, 567, 8773, 8776, 589, 591, 8787, 598, 8792, 603, 8797, 8799, 608, 8809, 621, 8814, 8822, 8827, 8841, 654, 665, 8865, 676, 680, 8886, 8891, 8894, 706, 712, 720, 8913, 728, 8920, 8922, 733, 8925, 8927, 741, 8936, 745, 753, 8947, 762, 8955, 773, 8965, 8972, 8974, 789, 8991, 8997, 8998, 808, 9003, 812, 9007, 9011, 9019, 831, 9023, 833, 9025, 9026, 9027, 848, 9040, 867, 882, 884, 9080, 895, 897, 904, 9098, 909, 9103, 9105, 9108, 923, 929, 931, 944, 9143, 9144, 957, 963, 9161, 973, 9166, 9170, 9183, 992, 995, 9187, 1000, 1011, 1017, 1031, 9227, 1038, 9238, 1053, 1055, 9250, 1062, 9264, 1073, 1076, 1082, 9276, 9283, 9285, 1094, 9290, 1101, 1104, 1106, 9298, 9311, 9314, 1128, 1133, 1136, 9339, 9345, 9350, 1160, 1177, 9374, 9376, 9380, 9381, 1192, 9387, 1200, 9405, 9410, 1220, 9415, 1229, 1238, 9445, 9455, 1264, 1269, 1270, 9469, 1278, 1285, 9485, 9493, 1302, 9497, 1308, 9507, 1325, 1328, 1333, 1345, 9544, 9548, 9549, 9574, 1386, 9581, 1390, 9583, 9585, 1401, 1406, 1413, 1415, 9609, 9614, 1426, 9633, 1445, 9641, 1450, 1452, 9650, 1467, 9659, 9661, 9663, 9667, 1480, 9680, 9683, 9699, 9702, 1516, 9713, 9715, 1524, 9723, 9724, 9730, 1545, 9739, 1549, 9742, 9774, 1583, 1588, 1592, 1597, 1600, 9792, 1605, 1629, 1638, 9831, 9832, 9833, 1643, 1645, 9843, 9866, 9875, 1689, 9887, 1702, 9896, 9898, 1707, 1721, 1728, 1730, 9922, 9927, 1741, 9934, 9936, 1745, 1756, 1763, 1765, 9957, 9961, 9968, 9971, 9972, 9986, 1795, 1803, 10009, 10016, 1830, 10024, 10026, 10028, 10036, 1855, 10051, 1865, 10062, 1880, 1882, 10076, 1886, 10093, 1903, 10107, 10108, 1917, 10114, 10123, 1939, 1941, 1944, 10137, 10142, 1954, 1957, 10150, 10152, 1963, 10159, 10162, 1984, 10176, 1986, 1989, 10181, 2005, 10197, 2017, 10210, 10213, 10215, 2026, 2031, 2036, 10231, 2039, 2055, 10248, 2057, 10269, 2079, 2090, 2099, 10295, 2114, 2115, 10308, 10314, 10318, 10321, 10324, 2134, 10330, 10341, 2157, 2167, 2168, 10360, 2172, 10366, 10368, 10371, 2187, 10389, 10392, 10395, 2211, 10405, 2217, 2222, 10414, 10431, 2240, 10440, 2255, 10455, 10458, 10468, 10470, 2284, 10477, 10483, 10484, 10489, 10496, 10497, 10498, 2318, 2327, 2344, 10537, 10543, 2353, 2358, 10554, 2368, 2370, 10563, 2377, 2379, 2380, 2383, 10582, 2397, 10602, 2413, 10606, 10607, 2421, 2431, 2432, 2434, 2435, 10632, 10635, 10639, 10647, 10651, 2463, 10655, 2470, 2471, 2478, 2480, 10673, 2494, 2498, 10690, 2503, 2504, 10698, 2508, 2517, 2520, 10713, 10716, 2537, 2541, 10738, 10740, 2549, 10743, 10746, 10754, 2563, 2573, 10770, 10773, 10787, 10793, 10796, 10807, 10813, 2622, 10828, 2644, 2645, 2667, 2670, 10862, 10863, 2673, 10868, 2712, 2713, 10909, 10912, 10913, 10914, 2726, 10924, 10944, 2756, 2761, 2782, 10976, 2788, 10981, 2798, 10998, 2809, 2810, 2813, 2814, 2815, 11013, 11014, 2831, 2834, 2839, 11044, 2862, 2863, 2876, 2878, 11076, 11080, 2889, 11085, 11086, 11087, 2899, 2906, 11103, 11112, 11118, 2950, 11161, 11172, 2981, 11175, 11176, 2994, 11189, 11190, 3014, 11215, 3024, 3026, 3028, 11221, 11223, 3033, 3037, 3044, 3047, 11242, 3054, 11248, 3058, 11256, 3065, 11257, 11268, 11279, 11280, 3095, 11289, 3099, 11293, 11300, 11301, 3114, 11307, 11308, 11319, 3132, 11332, 11355, 3167, 3170, 3173, 3174, 11365, 11373, 11374, 3190, 11383, 3198, 11399, 3211, 11407, 11410, 3229, 11426, 11432, 3242, 3257, 3260, 11457, 3269, 11471, 3289, 3291, 3296, 3297, 3300, 11496, 3305, 11500, 3309, 11502, 11517, 3331, 3335, 3341, 3343, 11537, 3363, 3371, 3375, 3383, 11580, 11583, 3406, 3411, 11617, 3427, 11636, 11637, 11640, 11642, 3457, 3459, 11665, 3481, 11694, 11699, 11713, 3534, 3538, 3541, 11734, 11742, 11747, 11753, 3569, 3573, 11774, 3585, 11777, 3587, 11778, 11781, 11791, 3601, 3607, 3608, 11804, 11816, 3625, 3627, 11829, 3637, 3638, 3642, 3644, 11837, 11842, 3658, 11852, 3679, 3681, 3687, 11883, 11885, 3701, 11893, 3705, 3706, 11903, 3726, 3735, 3736, 3739, 11933, 11937, 11950, 11960, 3769, 3772, 11965, 11970, 3781, 3782, 11976, 3798, 11992, 3802, 11997, 3812, 12006, 3820, 3822, 12021, 12028, 3839, 12031, 3848, 12042, 12061, 12070, 3882, 12075, 12086, 12087, 12091, 3911, 12103, 3913, 12111, 12118, 12121, 12133, 3947, 12143, 3952, 3953, 3954, 3957, 3972, 3973, 3993, 4000, 4006, 12199, 12205, 12209, 12210, 12216, 4027, 4033, 12227, 12228, 12229, 4039, 12231, 4049, 12246, 4056, 4062, 4065, 12261, 12289, 4100, 4106, 12319, 4128, 4134, 4137, 4140, 12334, 4146, 4147, 4166, 4171, 12379, 12381, 12384, 4197, 12407, 4218, 12419, 4231, 4234, 4237, 4243, 4252, 4253, 12448, 12451, 12454, 4266, 12462, 4271, 12469, 12472, 12480, 12494, 4324, 4325, 4328, 4333, 12527, 12531, 4344, 12544, 12548, 12555, 4378, 4383, 4389, 4390, 12582, 12584, 12585, 12591, 4404, 4416, 4417, 12614, 4428, 12621, 12623, 4431, 12625, 4437, 12629, 12641, 12645, 4458, 12665, 12668, 12670, 12675, 12680, 4494, 4495, 12688, 4497, 12703, 4512, 4514, 4517, 12712, 4524, 12720, 12721, 12722, 12735, 4553, 12747, 4580, 4585, 4587, 4591, 12783, 4598, 4604, 12806, 12817, 4626, 4633, 12828, 4640, 12841, 12843, 4653, 12845, 12866, 4691, 4698, 12893, 12894, 12897, 4706, 12901, 12913, 4724, 4729, 12924, 12939, 12940, 12945, 12949, 4766, 4771, 4776, 12968, 12972, 4784, 4788, 12992, 12995, 4806, 4807, 4808, 13000, 4812, 4814, 4826, 13031, 4852, 13064, 4892, 4893, 4900, 4901, 13099, 4911, 13104, 4915, 4919, 13112, 4928, 13124, 13131, 13138, 13140, 4954, 13149, 4958, 4959, 13153, 13170, 4980, 13172, 4983, 13178, 13183, 13186, 13192, 5008, 13216, 5029, 5032, 5039, 5040, 13233, 5044, 13238, 5069, 5070, 5071, 5077, 13278, 5091, 13284, 13293, 5103, 5120, 13312, 5123, 13323, 13327, 13330, 13331, 5140, 5143, 13338, 5154, 5158, 5179, 5191, 13391, 5201, 13397, 5206, 5221, 5232, 13436, 5245, 13442, 5255, 13447, 5263, 13457, 13459, 5275, 13470, 5279, 5280, 13472, 13482, 5295, 13498, 13508, 5317, 5322, 13516, 13520, 5330, 13525, 5336, 13532, 5341, 13541, 5355, 5369, 5380, 5383, 5385, 5390, 13590, 13598, 13616, 5434, 5435, 13640, 5455, 5460, 5461, 5469, 5477, 13673, 5491, 13683, 13688, 5503, 13700, 5514, 5523, 13717, 5529, 13727, 5561, 13758, 13766, 13770, 13772, 13780, 13781, 5594, 13788, 13790, 13795, 5607, 13799, 5609, 5614, 5616, 5626, 13830, 5648, 5655, 5659, 5670, 13864, 13873, 5683, 13877, 5685, 5686, 5692, 13885, 5704, 13898, 13901, 13910, 13927, 5752, 13946, 5759, 5760, 13952, 13964, 5773, 5781, 13973, 13980, 5804, 5807, 13999, 14003, 14007, 14010, 5818, 5820, 5828, 14022, 14024, 5832, 5838, 14037, 14044, 14045, 14055, 5866, 5879, 14076, 14085, 5897, 14093, 14095, 5904, 5906, 14104, 14108, 5917, 14114, 5926, 14122, 5958, 5966, 5971, 5980, 14176, 14181, 5990, 14188, 14189, 5997, 14191, 6000, 14204, 6024, 14228, 14231, 14233, 14241, 14244, 6062, 6064, 6069, 14263, 6072, 14271, 14274, 6083, 14277, 6087, 14284, 6094, 6095, 6100, 6102, 6104, 6107, 14304, 6126, 14325, 6135, 14331, 14333, 14338, 6147, 14347, 14355, 14361, 6171, 14365, 6185, 14379, 6195, 6196, 14390, 14393, 6215, 6216, 6219, 14411, 6223, 6238, 6243, 6250, 14448, 6262, 14464, 6278, 14473, 14494, 6318, 14511, 6325, 14518, 14520, 14526, 6341, 6347, 14540, 6349, 6350, 6363, 6367, 6377, 14569, 6380, 6395, 6396, 6397, 6399, 14597, 6406, 6413, 6417, 6418, 14614, 6431, 14630, 6459, 14654, 14655, 14668, 6477, 6478, 6482, 6483, 14681, 14690, 6499, 14696, 14698, 6507, 14705, 6516, 14711, 14714, 6525, 6527, 6535, 14737, 14748, 6561, 6570, 6577, 6601, 14794, 6607, 6611, 6618, 14816, 14822, 6647, 14839, 6652, 6665, 6680, 14874, 6685, 14884, 6698, 6700, 6701, 6702, 6709, 6717, 14910, 6722, 14915, 6727, 6739, 14932, 14943, 14947, 14949, 6758, 14950, 14973, 6785, 6787, 6792, 14989, 14990, 6799, 14997, 6806, 15013, 6825, 6832, 6836, 15040, 6857, 15063, 15065, 15083, 15084, 6895, 6899, 15103, 15105, 15106, 6923, 15115, 15116, 6937, 6940, 6944, 15142, 6951, 6954, 15149, 6959, 6961, 6962, 15165, 6981, 6982, 15176, 6987, 15179, 6993, 15193, 15195, 7007, 15207, 7020, 15216, 15217, 7027, 7039, 15232, 15249, 7073, 7074, 7079, 15274, 7091, 7095, 7108, 15301, 15310, 15312, 15320, 7131, 15333, 7157, 15350, 7170, 15363, 7176, 15370, 7183, 15383, 7201, 15394, 15399, 7208, 7210, 7222, 7223, 7224, 15436, 7247, 15442, 7258, 7261, 7285, 15478, 15492, 7301, 15497, 15499, 15505, 7329, 15539, 15543, 7352, 15546, 7370, 15567, 15572, 15578, 7391, 15585, 7402, 7408, 15601, 7415, 7417, 15616, 15619, 7437, 7443, 15636, 7446, 15641, 15643, 7455, 7460, 15653, 15688, 7498, 15693, 15695, 15702, 15703, 7526, 7528, 15723, 15725, 7535, 7537, 7546, 7547, 7551, 7559, 7566, 7572, 7575, 15769, 7578, 7585, 7586, 15787, 7597, 15789, 7602, 7605, 15799, 7614, 7635, 7637, 15836, 7656, 7662, 15860, 15866, 7675, 15867, 7682, 15874, 15881, 7695, 7702, 15896, 7708, 15900, 7714, 7716, 15916, 15923, 7733, 7735, 15928, 7767, 15971, 7781, 7787, 7792, 7796, 7808, 7831, 16028, 16032, 7841, 7842, 16042, 7864, 16058, 7872, 7876, 16072, 7883, 7892, 16084, 16086, 16090, 16114, 7923, 16117, 7932, 7942, 7944, 16144, 7956, 7960, 16154, 16159, 7971, 7972, 16166, 7975, 7980, 7987, 16179, 7997, 16190, 16195, 16198, 16200, 8022, 16217, 16218, 16225, 16227, 8043, 8047, 16239, 8049, 8052, 8058, 16251, 8079, 16273, 16280, 8089, 8107, 16314, 8123, 8126, 16318, 8129, 8134, 8138, 16333, 16345, 8159, 16355, 8168, 16371}, 2: {12288, 16384, 14341, 14349, 2063, 8209, 25, 4125, 8229, 2086, 10291, 8246, 12347, 10305, 16451, 71, 16461, 79, 8277, 2135, 8283, 93, 14432, 2145, 14435, 8294, 108, 14444, 10354, 16499, 125, 126, 6275, 4232, 4233, 6282, 141, 16526, 12431, 8337, 6290, 12434, 12443, 16540, 6301, 4255, 10404, 4262, 167, 16552, 10416, 6321, 12465, 14514, 8375, 12478, 8394, 12495, 8403, 6369, 8418, 14561, 2279, 12521, 14571, 237, 244, 16631, 8441, 250, 253, 10495, 6404, 14602, 8459, 10511, 2325, 16665, 282, 4381, 8479, 12576, 8481, 4387, 292, 4388, 12587, 14636, 2352, 8496, 8498, 2357, 2359, 2360, 16699, 10564, 6470, 14665, 333, 10573, 14669, 4436, 8532, 12628, 10584, 6490, 12640, 10599, 6504, 4459, 14707, 4468, 8573, 14717, 8579, 10629, 2438, 14729, 12689, 6546, 12693, 8598, 2456, 6559, 416, 10656, 14754, 6565, 8614, 4525, 8623, 10675, 4535, 8632, 8633, 14778, 448, 12737, 12738, 6595, 14785, 6598, 4556, 2512, 8658, 10707, 470, 473, 4569, 12761, 10724, 2534, 12774, 6634, 495, 8687, 6646, 2553, 14846, 12799, 14849, 2565, 526, 12815, 6672, 2577, 531, 10771, 12820, 14867, 2583, 12831, 10784, 2593, 551, 14892, 12855, 14914, 2628, 12874, 6734, 10834, 6741, 14934, 10840, 6749, 2655, 8802, 12916, 2677, 12918, 14966, 10875, 2690, 4739, 12933, 10886, 14983, 2698, 12942, 14996, 4760, 15003, 2719, 2720, 10911, 15008, 12963, 2725, 6830, 10929, 4787, 10931, 6837, 12979, 8889, 10938, 2747, 700, 711, 15049, 6861, 13011, 13013, 4825, 8921, 735, 8937, 8938, 2795, 2797, 751, 13041, 2811, 8957, 6915, 11011, 15109, 2826, 6929, 13074, 787, 13076, 15121, 11034, 798, 807, 15144, 6957, 6958, 15150, 11056, 9009, 13108, 11061, 11067, 830, 11070, 835, 15173, 9030, 11082, 9037, 15181, 13135, 850, 11095, 864, 11105, 15201, 4969, 7018, 2926, 7024, 2932, 15222, 2937, 7035, 9085, 9087, 896, 7048, 15240, 2962, 9106, 7064, 5020, 933, 935, 9132, 13228, 11186, 949, 3000, 13244, 5060, 9163, 978, 13266, 9184, 9186, 3045, 13288, 5106, 3061, 1014, 11253, 9210, 9237, 11290, 11297, 15396, 15397, 9255, 15409, 3122, 3123, 9271, 5177, 1087, 1088, 1099, 5204, 15451, 11357, 11361, 1122, 15467, 7279, 11375, 3196, 15490, 15491, 9360, 15507, 7318, 11420, 15516, 15523, 11431, 13481, 5298, 1203, 1204, 15542, 5304, 7353, 5309, 7358, 7359, 13501, 15551, 11459, 7367, 1228, 9423, 1236, 7380, 7382, 15576, 7398, 11499, 9454, 3322, 7432, 11533, 3354, 3368, 3369, 11561, 11564, 13614, 13617, 1332, 9526, 5432, 1351, 5450, 3405, 3407, 11601, 13655, 13656, 11612, 15712, 13671, 13672, 11626, 11630, 15727, 15729, 1394, 1396, 9589, 5497, 9597, 7552, 5509, 11656, 1418, 7563, 13710, 3487, 11679, 13730, 7590, 13735, 11696, 1461, 1462, 3512, 5567, 7619, 7620, 15825, 5588, 1494, 3543, 1500, 5597, 15843, 1512, 9704, 3563, 5613, 7665, 11764, 1529, 1531, 11771, 1533, 5633, 9731, 9734, 1544, 3602, 7706, 15902, 1569, 15907, 9772, 13871, 3636, 11832, 1593, 7738, 5691, 11834, 9789, 15931, 13889, 15942, 11849, 1612, 3663, 1617, 9814, 1625, 1627, 11870, 11873, 9828, 11877, 13931, 1647, 15983, 1649, 11896, 13949, 7839, 3744, 7845, 11953, 3765, 3768, 3771, 14014, 1727, 3783, 1746, 14038, 9947, 3805, 3806, 5853, 12002, 5862, 1767, 7915, 14060, 7926, 3838, 5887, 16130, 12035, 1797, 5895, 14092, 5901, 3855, 7952, 7953, 7957, 12059, 1827, 16165, 3878, 5934, 12078, 14128, 10038, 1854, 8002, 10055, 12105, 14154, 16203, 14160, 10077, 12129, 10087, 5992, 16245, 16247, 16250, 12159, 3971, 10120, 14218, 14220, 10125, 6031, 14224, 10132, 10134, 16278, 16290, 10163, 4020, 12226, 14283, 6093, 2000, 12244, 10198, 12247, 2015, 10209, 4068, 10212, 12262, 8169, 6124, 10222, 10226, 16376, 10238, 8191}, 3: {7169, 514, 8705, 5636, 7172, 3590, 15886, 2579, 12819, 3605, 6678, 15892, 1560, 2072, 3609, 4635, 4124, 5658, 3615, 14369, 15906, 4643, 1572, 3109, 6179, 10279, 11303, 13861, 13867, 3116, 10797, 3630, 16430, 6708, 9781, 2615, 5687, 11320, 9788, 13884, 14397, 13380, 5701, 3142, 8774, 4168, 10310, 11850, 12360, 5196, 2637, 12880, 4690, 13907, 6230, 8278, 5720, 6233, 2138, 5722, 8794, 14423, 16471, 13410, 5731, 6245, 4199, 6760, 7273, 618, 9835, 13419, 8813, 14445, 8308, 8311, 8825, 11899, 4733, 6271, 11905, 10372, 1158, 8838, 10374, 6794, 2699, 3212, 4236, 8331, 10383, 12432, 4241, 4242, 2195, 13965, 10901, 662, 2199, 12950, 13978, 1691, 13473, 2722, 8867, 9893, 11430, 9383, 15527, 6829, 5294, 11438, 10419, 8372, 1717, 2741, 6838, 6328, 7351, 1217, 9409, 3780, 9412, 9924, 12996, 9929, 9424, 15056, 6867, 6357, 12502, 4312, 7896, 16600, 11996, 2270, 4319, 16609, 11490, 8933, 7910, 8934, 11495, 14056, 15590, 747, 9452, 7917, 13548, 16614, 4848, 1267, 13044, 245, 3830, 13555, 2296, 5368, 5880, 14078, 6912, 6913, 14600, 6409, 13065, 9483, 12560, 5393, 14096, 16658, 1301, 16150, 1304, 10522, 4891, 11035, 1309, 1310, 286, 2334, 2848, 4895, 12058, 14110, 293, 9510, 7977, 7466, 14635, 11054, 816, 12593, 16180, 5941, 9013, 5943, 14646, 6969, 12089, 9532, 7486, 2879, 15679, 2882, 14662, 16202, 12109, 9038, 6479, 3408, 6480, 1874, 10577, 16208, 11605, 1879, 14169, 7515, 16219, 7518, 13662, 8544, 8033, 7522, 10594, 10596, 13157, 7016, 3436, 7533, 2929, 1908, 16244, 1398, 10105, 15226, 14206, 4992, 8576, 14726, 1927, 7050, 1931, 3980, 7052, 398, 2447, 7056, 9613, 10126, 13709, 14738, 9621, 15763, 4503, 5528, 12186, 927, 5023, 14757, 7591, 14760, 2987, 12206, 14255, 5552, 6065, 16267, 2485, 1975, 2487, 5559, 6071, 443, 956, 8127, 7106, 9666, 7622, 15303, 1481, 3020, 7629, 14801, 6106, 11227, 15325, 478, 3038, 14303, 15839, 9189, 7654, 14310, 5097, 4076, 7148, 11756, 9200, 6644, 10741, 8184, 14841, 16381, 1023}, 4: {3589, 15878, 7687, 2056, 5128, 6153, 13319, 5644, 15883, 14, 4113, 6676, 12309, 2077, 11807, 2592, 3620, 1573, 15398, 13353, 6188, 14896, 9777, 10805, 10303, 5696, 10304, 12865, 8771, 5193, 1103, 13904, 14929, 16463, 599, 3672, 10848, 4708, 1125, 15461, 4200, 8811, 6258, 10356, 2166, 3192, 15998, 6784, 8320, 2692, 3207, 11408, 5780, 1687, 9880, 13468, 2718, 6814, 12959, 9889, 4775, 10407, 1193, 2224, 7345, 2227, 186, 16064, 5316, 709, 5830, 11461, 8395, 5325, 718, 1743, 8400, 6865, 11986, 10453, 16088, 14554, 225, 10469, 6886, 14057, 4842, 12010, 5360, 7921, 13043, 1781, 7413, 14584, 9465, 3835, 257, 15618, 6405, 3849, 1290, 7438, 8976, 1809, 6931, 13591, 9499, 6429, 803, 6435, 16172, 4402, 2355, 8505, 12603, 14651, 11075, 8008, 10059, 335, 9554, 2907, 10588, 8031, 1377, 14689, 4963, 2412, 7025, 14194, 2935, 2936, 12664, 14208, 2436, 1938, 3987, 406, 6038, 9624, 12185, 2460, 6045, 9118, 12700, 5536, 5539, 9125, 10151, 4522, 5549, 1454, 13231, 945, 15794, 948, 6580, 11701, 951, 6585, 14265, 16313, 10192, 7125, 6103, 11224, 6105, 12759, 6623, 12768, 5100, 6637, 4081, 16369, 8179, 7158, 11766, 5113, 16378, 11260, 3069}, 5: {12298, 6159, 11792, 13328, 13841, 2070, 3100, 4141, 12333, 11312, 11316, 3645, 7234, 5195, 10839, 12375, 7771, 101, 8298, 15978, 10350, 5743, 16500, 7805, 8831, 3206, 650, 9870, 655, 2191, 153, 15005, 11938, 16548, 3237, 4778, 6317, 7342, 15535, 5299, 9917, 14013, 10948, 4294, 6343, 8902, 13012, 8405, 16597, 222, 12510, 16094, 4839, 9959, 16104, 1770, 6894, 10990, 7922, 2293, 5881, 15099, 9468, 3328, 12032, 6914, 12547, 12036, 15104, 16135, 4875, 15631, 784, 9488, 1813, 4376, 10014, 5408, 14126, 4916, 15159, 13115, 15681, 15682, 836, 3918, 2895, 4944, 4433, 10064, 11097, 16221, 12126, 8032, 4449, 1378, 1891, 9570, 16229, 10598, 2919, 365, 16240, 10609, 4982, 382, 5504, 388, 2948, 5510, 15241, 11658, 6030, 8080, 1953, 11683, 3493, 5545, 3502, 6579, 8629, 445, 2495, 960, 8644, 14789, 10694, 968, 5065, 7624, 976, 9169, 8661, 16342, 14807, 15319, 14301, 994, 8675, 7146, 1004, 1522}, 6: {3075, 13322, 8719, 5144, 8219, 13851, 8738, 7719, 8747, 2102, 569, 10812, 12862, 4672, 2120, 6729, 1098, 4174, 1107, 4703, 5217, 9825, 4707, 2660, 6756, 3581, 12899, 2676, 1141, 10879, 12934, 15496, 137, 2700, 7823, 8848, 15517, 3743, 13983, 7333, 679, 9899, 15536, 11444, 16566, 6331, 15036, 14019, 6852, 5319, 7889, 11985, 12501, 6359, 7387, 1760, 6896, 8447, 2822, 6410, 6411, 268, 1810, 15650, 4910, 5938, 11570, 5436, 9533, 5954, 12610, 9032, 13642, 8523, 5459, 11604, 15190, 9562, 8540, 13665, 8561, 5499, 14212, 1926, 8586, 14736, 5521, 12179, 2975, 3488, 5028, 5550, 2992, 7604, 11188, 9658, 959, 11721, 7626, 8655, 7130, 1523, 2550, 4605}, 7: {3842, 6018, 12294, 11146, 13578, 4876, 14474, 3854, 11406, 10386, 5652, 5525, 10649, 1952, 2082, 2210, 13602, 4135, 296, 5543, 13738, 7723, 9855, 13615, 4018, 8115, 7732, 10035, 16055, 6840, 2489, 15032, 14012, 7998, 11072, 1729, 6850, 15427, 4548, 1866, 5068, 3917, 597, 3542, 4565, 9559, 12630, 4322, 14436, 11493, 4331, 6125, 6253, 7405, 8433, 16113, 5236, 10614, 3704, 12794, 1276, 9599}, 8: {8064, 258, 13052, 5893, 13961, 16010, 10379, 2317, 9358, 11662, 8083, 6549, 408, 10015, 11685, 6826, 8618, 9514, 5555, 52, 7219, 952, 11322, 6848, 7489, 578, 8128, 10048, 3271, 7752, 8903, 5194, 8011, 5324, 461, 2382, 5199, 8782, 10442, 11591, 6355, 12756, 15061, 15562, 3547, 7259, 878, 12142, 15087, 7161, 3834, 5884, 15742}, 9: {3712, 898, 3202, 13956, 6918, 5131, 7951, 9232, 8600, 12826, 2075, 6687, 3872, 16162, 9894, 12455, 7855, 10671, 8882, 9778, 5814, 6201, 4026, 13881, 5052, 14780, 3518, 3264, 10829, 9422, 2127, 3664, 11091, 4439, 1119, 12000, 7653, 16359, 5096, 6632, 10476, 366, 2428, 3070}, 10: {14721, 15107, 15236, 11909, 14858, 10638, 13969, 9491, 11797, 541, 14495, 9123, 16035, 12200, 6576, 13105, 3381, 55, 3898, 3649, 6082, 1732, 15941, 582, 13897, 2253, 9809, 9429, 9690, 10843, 13274, 2269, 9438, 9569, 7778, 13411, 9447, 5225, 8815, 2169, 9338, 2687}, 11: {9464, 2820, 13573, 11526, 780, 12684, 10766, 12812, 11798, 11677, 4001, 3234, 8227, 8866, 12706, 3366, 15525, 6313, 11180, 2733, 14381, 688, 12595, 7860, 6849, 14151, 11213, 1102, 15566, 6097, 1747, 6869, 14810, 3292, 871, 14314, 9839, 2032, 10224, 3187, 9078, 4728, 2425}, 12: {7813, 12165, 4240, 2961, 13715, 10399, 14250, 5038, 12975, 1587, 11957, 7364, 11077, 5580, 8271, 9046, 10972, 999, 9707, 12907, 7534, 13809, 1534, 255}, 13: {5377, 2786, 1251, 11843, 4456, 7560, 9065, 12714, 3310, 4686, 5136, 5774, 6801, 2675, 16238, 2390, 10841, 5211, 4093, 2175}, 14: {11104, 8413, 16640, 7427, 16071, 14216, 16568, 10808, 11115, 3025, 3733, 13078, 6872, 925, 8702}, 15: {16226, 3209, 12938, 12023, 11340, 8653, 8334, 13623, 9329, 15448, 7861, 13909, 10263, 8120, 16477, 14747, 11100, 4509, 13503}, 16: {15846, 241, 498, 14482, 4120, 7513, 7451}, 17: {196, 12459, 1550, 47, 2545, 9745, 10965, 15926, 7608, 13215}, 18: {3723, 13490, 12692, 10712, 16572}, 19: {14306, 6371, 8426, 9229, 13460, 16596, 16185, 5688, 1465, 1947}, 20: {3424, 1833, 7978, 750, 919, 8697, 12606}, 21: {4811, 6679, 12327, 5087}, 22: {11416, 16623, 8615}, 23: {15139, 10986, 11790, 6287, 1489, 1841, 6742}, 24: {9808, 3814, 5972, 926}, 25: {1120, 15969, 10054, 16102, 13712, 14641, 11415}, 26: {15584, 10034, 5431}, 27: {2192, 10409, 16295}, 28: {12184, 11555, 1364, 3077}, 29: {9750}, 30: set(), 31: {14921, 3236}, 32: {13483}, 33: {12003}, 34: set(), 35: {15205}, 36: set(), 37: set(), 38: {4210}, 39: set(), 40: {9000}, 41: set(), 42: set(), 43: set(), 44: set(), 45: {7385, 16693}, 46: set(), 47: set(), 48: {3659}, 49: set(), 50: set(), 51: {9695}, 52: set(), 53: set(), 54: set(), 55: {9066}, 56: set(), 57: set(), 58: set(), 59: set(), 60: set(), 61: set(), 62: set(), 63: set(), 64: set(), 65: set(), 66: set(), 67: set(), 68: set(), 69: set(), 70: set(), 71: set(), 72: set(), 73: set(), 74: set(), 75: set(), 76: set(), 77: set(), 78: set(), 79: set(), 80: set(), 81: set(), 82: set(), 83: set(), 84: set(), 85: set(), 86: set(), 87: set(), 88: set(), 89: set(), 90: set(), 91: set(), 92: set(), 93: set(), 94: set(), 95: set(), 96: set(), 97: set(), 98: set(), 99: set()}\n"
     ]
    }
   ],
   "source": [
    "print(dict_freq_ids)"
   ]
  },
  {
   "cell_type": "markdown",
   "metadata": {},
   "source": [
    "### Step-6 Plotting of Graph"
   ]
  },
  {
   "cell_type": "code",
   "execution_count": 50,
   "metadata": {},
   "outputs": [
    {
     "data": {
      "image/png": "[encoded data removed]",
      "text/plain": [
       "<Figure size 432x288 with 1 Axes>"
      ]
     },
     "metadata": {
      "needs_background": "light"
     },
     "output_type": "display_data"
    }
   ],
   "source": [
    "\n",
    "plt.plot(list(dict_freq_count.keys()), list(dict_freq_count.values()),color='red')\n",
    "plt.title('Frequency of Users by their 90 Day Repeat')\n",
    "plt.xlabel('Number of times 90 Day Repeat followed')\n",
    "plt.ylabel('Number of users by their 90 Day Repeat')\n",
    "plt.show()"
   ]
  },
  {
   "cell_type": "markdown",
   "metadata": {},
   "source": [
    "### Step- 7 \n",
    "We make a copy of our dataset"
   ]
  },
  {
   "cell_type": "code",
   "execution_count": 51,
   "metadata": {},
   "outputs": [],
   "source": [
    "# Copy dataset\n",
    "copy_dataset= dataset"
   ]
  },
  {
   "cell_type": "markdown",
   "metadata": {},
   "source": [
    "### Step-8\n",
    "Since in the question, it was asked to take Gap between the date of booking and date of service requested, we create a column in our dataset which is a list of difference in dates of booking and service requested."
   ]
  },
  {
   "cell_type": "code",
   "execution_count": 52,
   "metadata": {},
   "outputs": [],
   "source": [
    "# Gap b/w dates of booking and service requested\n",
    "gap_booking_service_date=[]"
   ]
  },
  {
   "cell_type": "markdown",
   "metadata": {},
   "source": [
    "Creation of list"
   ]
  },
  {
   "cell_type": "code",
   "execution_count": 53,
   "metadata": {},
   "outputs": [],
   "source": [
    "# Preparing gap of servive list\n",
    "for i in range(len(copy_dataset)):\n",
    "    #print(copy_dataset.at[i,'Date_of_Service_Requested'],\": :\",copy_dataset.at[i,'Date_of_Booking'])\n",
    "    gap_booking_service_date.append(calculate_day_diff(copy_dataset.at[i,'Date_of_Service_Requested'],copy_dataset.at[i,'Date_of_Booking']))"
   ]
  },
  {
   "cell_type": "markdown",
   "metadata": {},
   "source": [
    "Addition of the column Difference days in the dataset"
   ]
  },
  {
   "cell_type": "code",
   "execution_count": 54,
   "metadata": {},
   "outputs": [],
   "source": [
    "copy_dataset['Difference_Days']= gap_booking_service_date"
   ]
  },
  {
   "cell_type": "markdown",
   "metadata": {},
   "source": [
    "### Step-9 \n",
    "We do inclusion of appropriate and reliable features for our model, which are:\n",
    "- Source of Booking\n",
    "- Difference_days\n",
    "- Slot of Booking (Hour of the Day)"
   ]
  },
  {
   "cell_type": "code",
   "execution_count": 55,
   "metadata": {},
   "outputs": [],
   "source": [
    "copy_dataset = copy_dataset[['Source','Difference_Days','Slot of Booking (Hour of the Day)']]"
   ]
  },
  {
   "cell_type": "markdown",
   "metadata": {},
   "source": [
    "### Step-10 Labelling categorical data\n",
    "We need to address categorical data in our dataset, to get our model worked upon. For example here in our dataset, we have A,B,C, etc. as values of Slot of Booking (Hour of the day), so our classifier cannot directly operate on sich data. We need to encode it into numeric form. For this we use LabelEncoder class of sklearn library, which does the task for us."
   ]
  },
  {
   "cell_type": "code",
   "execution_count": 56,
   "metadata": {},
   "outputs": [],
   "source": [
    "# Label Encoder\n",
    "from sklearn.preprocessing import LabelEncoder\n",
    "le= LabelEncoder()"
   ]
  },
  {
   "cell_type": "markdown",
   "metadata": {},
   "source": [
    "We create an object for the LabelEncoder class, and apply label encoding with the help of apply() function, using the fit_transform"
   ]
  },
  {
   "cell_type": "code",
   "execution_count": 57,
   "metadata": {},
   "outputs": [],
   "source": [
    "ds= copy_dataset.apply(le.fit_transform)"
   ]
  },
  {
   "cell_type": "markdown",
   "metadata": {},
   "source": [
    "### Step-11 \n",
    "We need to convert our data into a numpy array, before processing"
   ]
  },
  {
   "cell_type": "code",
   "execution_count": 58,
   "metadata": {},
   "outputs": [],
   "source": [
    "small_data_set= np.asarray(ds)"
   ]
  },
  {
   "cell_type": "markdown",
   "metadata": {},
   "source": [
    "### Step-12 Creation of labels 0 or 1 for classification\n",
    "\n",
    "We declare a numpy list of dimensions of dataset, which basically has values of 0 in it intially. Now as we find users, which have done 90 day repeat, we go there, and update the value of that ID, regardless of number of times the user did it. If the user has done a 90 day repeat once, 1 labelling is given."
   ]
  },
  {
   "cell_type": "code",
   "execution_count": 59,
   "metadata": {},
   "outputs": [],
   "source": [
    "Y_train=np.zeros((len(copy_dataset),))"
   ]
  },
  {
   "cell_type": "code",
   "execution_count": 60,
   "metadata": {},
   "outputs": [],
   "source": [
    "for i in range(len(Y)):\n",
    "    if(Y[i]==1):\n",
    "        Y_train[i]=1"
   ]
  },
  {
   "cell_type": "markdown",
   "metadata": {},
   "source": [
    "### Step-13 Demaraction of train and test sizes\n",
    "We take all the months from Dec-2017 and Oct-2018 as training data, and keep Nov-2018 as testing data"
   ]
  },
  {
   "cell_type": "code",
   "execution_count": 61,
   "metadata": {},
   "outputs": [],
   "source": [
    "train_size=0\n",
    "for index,row in dataset.iterrows():\n",
    "    if int(row['Date_of_Booking'][5:7])<11:\n",
    "        train_size=train_size+1"
   ]
  },
  {
   "cell_type": "code",
   "execution_count": 62,
   "metadata": {},
   "outputs": [],
   "source": [
    "test_size= 1-(train_size/len(dataset))"
   ]
  },
  {
   "cell_type": "markdown",
   "metadata": {},
   "source": [
    "### Step-14 Splitting data into train and test sets\n",
    "We split the data into train and test sets, using the test_size calculation above"
   ]
  },
  {
   "cell_type": "code",
   "execution_count": 63,
   "metadata": {},
   "outputs": [],
   "source": [
    "x_train, x_test, y_train, y_test= train_test_split(small_data_set, Y_train, test_size = 0.17252747252747258, random_state = 0)"
   ]
  },
  {
   "cell_type": "markdown",
   "metadata": {},
   "source": [
    "### Step-15 Training our classifier\n",
    "Now we train our classifier over the training set, which learns the right set of parameters, to classify the users. We create an object of LogisticRegression class, and fit the classifier to our dataset, using the fit() method"
   ]
  },
  {
   "cell_type": "code",
   "execution_count": 64,
   "metadata": {},
   "outputs": [
    {
     "name": "stderr",
     "output_type": "stream",
     "text": [
      "D:\\ProgrammingRelated\\AnacondaNavigator\\lib\\site-packages\\sklearn\\linear_model\\logistic.py:432: FutureWarning: Default solver will be changed to 'lbfgs' in 0.22. Specify a solver to silence this warning.\n",
      "  FutureWarning)\n"
     ]
    },
    {
     "data": {
      "text/plain": [
       "LogisticRegression(C=1.0, class_weight=None, dual=False, fit_intercept=True,\n",
       "          intercept_scaling=1, max_iter=100, multi_class='warn',\n",
       "          n_jobs=None, penalty='l2', random_state=0, solver='warn',\n",
       "          tol=0.0001, verbose=0, warm_start=False)"
      ]
     },
     "execution_count": 64,
     "metadata": {},
     "output_type": "execute_result"
    }
   ],
   "source": [
    "classifier= LogisticRegression(random_state=0)\n",
    "classifier.fit(x_train, y_train)"
   ]
  },
  {
   "cell_type": "markdown",
   "metadata": {},
   "source": [
    "### Step-16 Predictions on Test Set"
   ]
  },
  {
   "cell_type": "code",
   "execution_count": 65,
   "metadata": {},
   "outputs": [],
   "source": [
    "y_pred=classifier.predict(x_test)"
   ]
  },
  {
   "cell_type": "markdown",
   "metadata": {},
   "source": [
    "### Step-17 Accuracy of the model"
   ]
  },
  {
   "cell_type": "code",
   "execution_count": 68,
   "metadata": {},
   "outputs": [],
   "source": [
    "from sklearn.metrics import accuracy_score\n",
    "acc=accuracy_score(y_test, y_pred)"
   ]
  },
  {
   "cell_type": "code",
   "execution_count": 69,
   "metadata": {},
   "outputs": [
    {
     "name": "stdout",
     "output_type": "stream",
     "text": [
      "Accuracy of the Logistic Regression Model is:  89.71717550103016  %\n"
     ]
    }
   ],
   "source": [
    "print(\"Accuracy of the Logistic Regression Model is: \",100*acc,\" %\")"
   ]
  }
 ],
 "metadata": {
  "kernelspec": {
   "display_name": "Python 3",
   "language": "python",
   "name": "python3"
  },
  "language_info": {
   "codemirror_mode": {
    "name": "ipython",
    "version": 3
   },
   "file_extension": ".py",
   "mimetype": "text/x-python",
   "name": "python",
   "nbconvert_exporter": "python",
   "pygments_lexer": "ipython3",
   "version": "3.6.6"
  }
 },
 "nbformat": 4,
 "nbformat_minor": 2
}
